{
    "cells": [
        {
            "cell_type": "markdown",
            "metadata": {
                "collapsed": true
            },
            "source": "# The Battle of the Neighborhoods"
        },
        {
            "cell_type": "markdown",
            "metadata": {},
            "source": "******"
        },
        {
            "cell_type": "markdown",
            "metadata": {},
            "source": "## *Description of the Problem and Problem Background*"
        },
        {
            "cell_type": "markdown",
            "metadata": {},
            "source": "### A clothing brand opened one retail store in Los Angeles, California about two years ago. Due to that store's success, the owners decide they want to expand the brand and open another store in another part of the country. They want to open it in a popular city so that their brand gets more attention and can continue to grow. After much thought, they narrow their options down to New York, New York, and Miami, Florida, but they still can't agree on which location would attract the most clients. \n\n### They also want to consider how much spending the location would require and which location poses the least risk to their financial future. "
        },
        {
            "cell_type": "markdown",
            "metadata": {},
            "source": "## *Data Used*"
        },
        {
            "cell_type": "markdown",
            "metadata": {},
            "source": "### *Population and Avg Income*: This clothing brand isn't too cheap, it's considered luxury. In order to determine which location will attract more clients, we need to know not only the population of each city's neighborhoods but also the average income in those locations. This data will come from the New York and Miami neighborhoods Wikipedia sites as well as from the United States Census (census.gov) site. \n\n### *Avg Cost of Living*: We can also use data about the average cost of living there to help determine if people living there will be able to afford the brand. We analyze average apartment rent and housing costs, transportation spendings, groceries spendings, amongst other similar factors. This data will come from NUMBEO, which breaks down how much the average person spends on food, clothing, rent, utilities, transportation, etc.\n\n### *Existing Businesses*: We also look at the number of businesses already in that location and what type of business they are, to determine how much competition there would be. This data will come from the United States Census site (census.gov) as well as from Foursquare. \n\n### *Retail Sales*: Finally, we look at total retail sale numbers and retail sales per capita to see how much people spend in the area (on average). This data will come from the United States Census site (census.gov).\n\n### *Most popular venues*: We will use Foursquare to look at the most popular venues in each neighborhood."
        },
        {
            "cell_type": "markdown",
            "metadata": {},
            "source": "## *How This Data is Useful*"
        },
        {
            "cell_type": "markdown",
            "metadata": {},
            "source": "### The more people in an area, the more potential customers the clothing store owners can expect. The higher the average income of the people living in the chosen city, and the lower the cost of living there, the more people can afford to shop for clothes at a luxury store. The more number of clothing businesses, the more potential competition. And the more retail sales in the area, the more you can expect the clothing brand to be successful there."
        },
        {
            "cell_type": "markdown",
            "metadata": {},
            "source": "## *Target Audience*"
        },
        {
            "cell_type": "markdown",
            "metadata": {},
            "source": "### My target audience in this project would specifically be the owners of the clothing brand described in the problem, but any business investor (specially in the clothing industry) would benefit from this analysis. A group of stakeholders looking to expand their business or move it to another location can use this study to help make a choice on whether Miami, FL or New York, NY would be the best fit in their case. "
        }
    ],
    "metadata": {
        "kernelspec": {
            "display_name": "Python 3.6",
            "language": "python",
            "name": "python3"
        },
        "language_info": {
            "codemirror_mode": {
                "name": "ipython",
                "version": 3
            },
            "file_extension": ".py",
            "mimetype": "text/x-python",
            "name": "python",
            "nbconvert_exporter": "python",
            "pygments_lexer": "ipython3",
            "version": "3.6.9"
        }
    },
    "nbformat": 4,
    "nbformat_minor": 1
}