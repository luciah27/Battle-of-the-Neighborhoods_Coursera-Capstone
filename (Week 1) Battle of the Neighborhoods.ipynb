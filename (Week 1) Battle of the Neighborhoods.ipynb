{
    "cells": [
        {
            "cell_type": "markdown",
            "metadata": {
                "collapsed": true
            },
            "source": "# The Battle of the Neighborhoods"
        },
        {
            "cell_type": "markdown",
            "metadata": {},
            "source": "******"
        },
        {
            "cell_type": "markdown",
            "metadata": {},
            "source": "## *Description of the Problem and Problem Background*"
        },
        {
            "cell_type": "markdown",
            "metadata": {},
            "source": "### A clothing brand opened one retail store in Los Angeles, California about two years ago. Due to that store's success, the owners decide they want to expand the brand and open another store in another part of the country. They want to open it in a popular city so that their brand gets more attention and can continue to grow. After much thought, they narrow their options down to New York, New York, and Miami, Florida, but they still can't agree on which location would attract the most clients. \n\n### They also want to consider how much spending the location would require and which location poses the least risk to their financial future. "
        },
        {
            "cell_type": "markdown",
            "metadata": {},
            "source": "## *Data Used*"
        },
        {
            "cell_type": "markdown",
            "metadata": {},
            "source": "### *Population and Avg Income*: This clothing brand isn't too cheap, it's considered luxury. In order to determine which location will attract more clients, we need to know not only the population of each city's neighborhoods but also the average income in those locations. \n\n### *Avg Cost of Living*: We can also use data about the average cost of living there to help determine if people living there will be able to afford the brand. We analyze average apartment rent and housing costs, transportation spendings, groceries spendings, amongst other similar factors. \n\n### *Existing Businesses*: We also look at the number of businesses already in that location and what type of business they are, to determine how much competition there would be. \n\n### *Retail Sales*: Finally, we look at total retail sale numbers and retail sales per capita to see how much people spend in the area (on average)."
        },
        {
            "cell_type": "markdown",
            "metadata": {},
            "source": "## *How This Data is Useful*"
        },
        {
            "cell_type": "markdown",
            "metadata": {},
            "source": "### The more people in an area, the more potential customers the clothing store owners can expect. The higher the average income of the people living in the chosen city, and the lower the cost of living there, the more people can afford to shop for clothes at a luxury store. The more number of clothing businesses, the more potential competition. And the more retail sales in the area, the more you can expect the clothing brand to be successful there."
        }
    ],
    "metadata": {
        "kernelspec": {
            "display_name": "Python 3.6",
            "language": "python",
            "name": "python3"
        },
        "language_info": {
            "codemirror_mode": {
                "name": "ipython",
                "version": 3
            },
            "file_extension": ".py",
            "mimetype": "text/x-python",
            "name": "python",
            "nbconvert_exporter": "python",
            "pygments_lexer": "ipython3",
            "version": "3.6.9"
        }
    },
    "nbformat": 4,
    "nbformat_minor": 1
}